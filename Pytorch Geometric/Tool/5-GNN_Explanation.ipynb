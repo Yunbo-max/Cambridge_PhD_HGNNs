{
 "cells": [
  {
   "cell_type": "markdown",
   "metadata": {
    "id": "nMTL0kk0seBw"
   },
   "source": [
    "# Explaining GNN Model Predictions using Captum\n",
    "\n",
    "In this tutorial we demonstrate how to apply feature attribution methods to graphs. Specifically, we try to find the most important edges for each instance prediction.  \n",
    "\n",
    "We use the Mutagenicity dataset from [TUDatasets](https://chrsmrrs.github.io/datasets/). This dataset consists of 4337 molecule graphs where the task is to predict the molecule mutagenicity."
   ]
  },
  {
   "cell_type": "markdown",
   "metadata": {
    "id": "mJtgD2A1uJAa"
   },
   "source": [
    "## Loading the dataset\n",
    "\n",
    "We load the dataset and use 10% of the data as the test split."
   ]
  },
  {
   "cell_type": "code",
   "execution_count": 5,
   "metadata": {
    "colab": {
     "base_uri": "https://localhost:8080/"
    },
    "id": "SE2iREv4q2dL",
    "outputId": "c46fb1ad-84b2-4d43-89a2-101fe6a61c66"
   },
   "outputs": [
    {
     "ename": "RuntimeError",
     "evalue": "The 'data' object was created by an older version of PyG. If this error occurred while loading an already existing dataset, remove the 'processed/' directory in the dataset's root folder and try again.",
     "output_type": "error",
     "traceback": [
      "\u001b[1;31m---------------------------------------------------------------------------\u001b[0m",
      "\u001b[1;31mRuntimeError\u001b[0m                              Traceback (most recent call last)",
      "Cell \u001b[1;32mIn[5], line 5\u001b[0m\n\u001b[0;32m      2\u001b[0m \u001b[39mfrom\u001b[39;00m \u001b[39mtorch_geometric\u001b[39;00m\u001b[39m.\u001b[39;00m\u001b[39mdatasets\u001b[39;00m \u001b[39mimport\u001b[39;00m TUDataset\n\u001b[0;32m      4\u001b[0m path \u001b[39m=\u001b[39m \u001b[39m'\u001b[39m\u001b[39m.\u001b[39m\u001b[39m'\u001b[39m\n\u001b[1;32m----> 5\u001b[0m dataset \u001b[39m=\u001b[39m TUDataset(path, name\u001b[39m=\u001b[39;49m\u001b[39m'\u001b[39;49m\u001b[39mMutagenicity\u001b[39;49m\u001b[39m'\u001b[39;49m)\n\u001b[0;32m      6\u001b[0m train_dataset \u001b[39m=\u001b[39m dataset\n\u001b[0;32m      7\u001b[0m train_loader \u001b[39m=\u001b[39m DataLoader(train_dataset, batch_size\u001b[39m=\u001b[39m\u001b[39m128\u001b[39m)\n",
      "File \u001b[1;32m~\\AppData\\Roaming\\Python\\Python38\\site-packages\\torch_geometric\\datasets\\tu_dataset.py:127\u001b[0m, in \u001b[0;36mTUDataset.__init__\u001b[1;34m(self, root, name, transform, pre_transform, pre_filter, use_node_attr, use_edge_attr, cleaned)\u001b[0m\n\u001b[0;32m    125\u001b[0m out \u001b[39m=\u001b[39m torch\u001b[39m.\u001b[39mload(\u001b[39mself\u001b[39m\u001b[39m.\u001b[39mprocessed_paths[\u001b[39m0\u001b[39m])\n\u001b[0;32m    126\u001b[0m \u001b[39mif\u001b[39;00m \u001b[39mnot\u001b[39;00m \u001b[39misinstance\u001b[39m(out, \u001b[39mtuple\u001b[39m) \u001b[39mor\u001b[39;00m \u001b[39mlen\u001b[39m(out) \u001b[39m!=\u001b[39m \u001b[39m3\u001b[39m:\n\u001b[1;32m--> 127\u001b[0m     \u001b[39mraise\u001b[39;00m \u001b[39mRuntimeError\u001b[39;00m(\n\u001b[0;32m    128\u001b[0m         \u001b[39m\"\u001b[39m\u001b[39mThe \u001b[39m\u001b[39m'\u001b[39m\u001b[39mdata\u001b[39m\u001b[39m'\u001b[39m\u001b[39m object was created by an older version of PyG. \u001b[39m\u001b[39m\"\u001b[39m\n\u001b[0;32m    129\u001b[0m         \u001b[39m\"\u001b[39m\u001b[39mIf this error occurred while loading an already existing \u001b[39m\u001b[39m\"\u001b[39m\n\u001b[0;32m    130\u001b[0m         \u001b[39m\"\u001b[39m\u001b[39mdataset, remove the \u001b[39m\u001b[39m'\u001b[39m\u001b[39mprocessed/\u001b[39m\u001b[39m'\u001b[39m\u001b[39m directory in the dataset\u001b[39m\u001b[39m'\u001b[39m\u001b[39ms \u001b[39m\u001b[39m\"\u001b[39m\n\u001b[0;32m    131\u001b[0m         \u001b[39m\"\u001b[39m\u001b[39mroot folder and try again.\u001b[39m\u001b[39m\"\u001b[39m)\n\u001b[0;32m    132\u001b[0m \u001b[39mself\u001b[39m\u001b[39m.\u001b[39mdata, \u001b[39mself\u001b[39m\u001b[39m.\u001b[39mslices, \u001b[39mself\u001b[39m\u001b[39m.\u001b[39msizes \u001b[39m=\u001b[39m out\n\u001b[0;32m    134\u001b[0m \u001b[39mif\u001b[39;00m \u001b[39mself\u001b[39m\u001b[39m.\u001b[39mdata\u001b[39m.\u001b[39mx \u001b[39mis\u001b[39;00m \u001b[39mnot\u001b[39;00m \u001b[39mNone\u001b[39;00m \u001b[39mand\u001b[39;00m \u001b[39mnot\u001b[39;00m use_node_attr:\n",
      "\u001b[1;31mRuntimeError\u001b[0m: The 'data' object was created by an older version of PyG. If this error occurred while loading an already existing dataset, remove the 'processed/' directory in the dataset's root folder and try again."
     ]
    }
   ],
   "source": [
    "from torch_geometric.loader import DataLoader\n",
    "from torch_geometric.datasets import TUDataset\n",
    "\n",
    "path = '.'\n",
    "dataset = TUDataset(path, name='Mutagenicity')\n",
    "train_dataset = dataset\n",
    "train_loader = DataLoader(train_dataset, batch_size=128)"
   ]
  },
  {
   "cell_type": "markdown",
   "metadata": {
    "id": "g35SSQ3oukNM"
   },
   "source": [
    "## Visualizing the data\n",
    "\n",
    "We define some utility functions for visualizing the molecules and draw a random molecule."
   ]
  },
  {
   "cell_type": "code",
   "execution_count": 4,
   "metadata": {
    "collapsed": true,
    "id": "9Hh3YNASuYxm"
   },
   "outputs": [],
   "source": [
    "import networkx as nx\n",
    "import numpy as np\n",
    "\n",
    "from torch_geometric.utils import to_networkx\n",
    "\n",
    "\n",
    "def draw_molecule(g, edge_mask=None, draw_edge_labels=False):\n",
    "    g = g.copy().to_undirected()\n",
    "    node_labels = {}\n",
    "    for u, data in g.nodes(data=True):\n",
    "        node_labels[u] = data['name']\n",
    "    pos = nx.planar_layout(g)\n",
    "    pos = nx.spring_layout(g, pos=pos)\n",
    "    if edge_mask is None:\n",
    "        edge_color = 'black'\n",
    "        widths = None\n",
    "    else:\n",
    "        edge_color = [edge_mask[(u, v)] for u, v in g.edges()]\n",
    "        widths = [x * 10 for x in edge_color]\n",
    "    nx.draw(g, pos=pos, labels=node_labels, width=widths,\n",
    "            edge_color=edge_color, edge_cmap=plt.cm.Blues,\n",
    "            node_color='azure')\n",
    "    \n",
    "    if draw_edge_labels and edge_mask is not None:\n",
    "        edge_labels = {k: ('%.2f' % v) for k, v in edge_mask.items()}    \n",
    "        nx.draw_networkx_edge_labels(g, pos, edge_labels=edge_labels,\n",
    "                                    font_color='red')\n",
    "    plt.show()\n",
    "\n",
    "\n",
    "def to_molecule(data):\n",
    "    ATOM_MAP = ['C', 'O', 'Cl', 'H', 'N', 'F',\n",
    "                'Br', 'S', 'P', 'I', 'Na', 'K', 'Li', 'Ca']\n",
    "    g = to_networkx(data, node_attrs=['x'])\n",
    "    for u, data in g.nodes(data=True):\n",
    "        data['name'] = ATOM_MAP[data['x'].index(1.0)]\n",
    "        del data['x']\n",
    "    return g\n"
   ]
  },
  {
   "cell_type": "markdown",
   "metadata": {
    "id": "cJ3JuTH1vV1V"
   },
   "source": [
    "## Sample visualization\n",
    "\n",
    "We sample a single molecule from train_dataset and visualize it"
   ]
  },
  {
   "cell_type": "code",
   "execution_count": 7,
   "metadata": {
    "colab": {
     "base_uri": "https://localhost:8080/",
     "height": 391
    },
    "id": "4Z2uE7zVuhXU",
    "outputId": "14795a19-032e-4836-b07d-b5fe6b594e7f"
   },
   "outputs": [
    {
     "name": "stderr",
     "output_type": "stream",
     "text": [
      "D:\\ProgramData\\Anaconda3\\lib\\site-packages\\networkx\\drawing\\layout.py:950: FutureWarning: arrays to stack must be passed as a \"sequence\" type such as list or tuple. Support for non-sequence iterables such as generators is deprecated as of NumPy 1.16 and will raise an error in the future.\n",
      "  pos = np.row_stack((pos[x] for x in node_list))\n"
     ]
    },
    {
     "data": {
      "image/png": "[encoded data removed]",
      "text/plain": [
       "<Figure size 720x360 with 1 Axes>"
      ]
     },
     "metadata": {},
     "output_type": "display_data"
    }
   ],
   "source": [
    "import random\n",
    "import matplotlib.pyplot as plt\n",
    "\n",
    "data = random.choice([t for t in train_dataset])\n",
    "mol = to_molecule(data)\n",
    "plt.figure(figsize=(10, 5))\n",
    "draw_molecule(mol)"
   ]
  },
  {
   "cell_type": "markdown",
   "metadata": {
    "id": "6kZo9g1hwCGG"
   },
   "source": [
    "## Training the model\n",
    "\n",
    "In the next section, we train a GNN model with 5 convolution layers. We use GraphConv which supports `edge_weight` as a parameter. Many convolution layers in Pytorch Geometric supoort this argument."
   ]
  },
  {
   "cell_type": "markdown",
   "metadata": {
    "id": "GBVIOfMCCHAb"
   },
   "source": [
    "### Define the model"
   ]
  },
  {
   "cell_type": "code",
   "execution_count": 8,
   "metadata": {
    "collapsed": true,
    "id": "iI1qpFUhrA2p"
   },
   "outputs": [],
   "source": [
    "import torch\n",
    "from torch.nn import Linear\n",
    "import torch.nn.functional as F\n",
    "\n",
    "from torch_geometric.nn import GraphConv, global_add_pool\n",
    "\n",
    "class Net(torch.nn.Module):\n",
    "    def __init__(self, dim):\n",
    "        super(Net, self).__init__()\n",
    "\n",
    "        num_features = dataset.num_features\n",
    "        self.dim = dim\n",
    "\n",
    "        self.conv1 = GraphConv(num_features, dim)\n",
    "        self.conv2 = GraphConv(dim, dim)\n",
    "        self.conv3 = GraphConv(dim, dim)\n",
    "        self.conv4 = GraphConv(dim, dim)\n",
    "        self.conv5 = GraphConv(dim, dim)\n",
    "\n",
    "        self.lin1 = Linear(dim, dim)\n",
    "        self.lin2 = Linear(dim, dataset.num_classes)\n",
    "\n",
    "    def forward(self, x, edge_index, batch, edge_weight=None):\n",
    "        x = self.conv1(x, edge_index, edge_weight).relu()\n",
    "        x = self.conv2(x, edge_index, edge_weight).relu()\n",
    "        x = self.conv3(x, edge_index, edge_weight).relu()\n",
    "        x = self.conv4(x, edge_index, edge_weight).relu()\n",
    "        x = self.conv5(x, edge_index, edge_weight).relu()\n",
    "        x = global_add_pool(x, batch)\n",
    "        x = self.lin1(x).relu()\n",
    "        x = F.dropout(x, p=0.5, training=self.training)\n",
    "        x = self.lin2(x)\n",
    "        return F.log_softmax(x, dim=-1)\n"
   ]
  },
  {
   "cell_type": "markdown",
   "metadata": {
    "id": "L3WOZ40OCKO5"
   },
   "source": [
    "### Define train and test functions"
   ]
  },
  {
   "cell_type": "code",
   "execution_count": 9,
   "metadata": {
    "collapsed": true,
    "id": "ExNsODp3rKjN"
   },
   "outputs": [],
   "source": [
    "def train(epoch):\n",
    "    model.train()\n",
    "\n",
    "    if epoch == 51:\n",
    "        for param_group in optimizer.param_groups:\n",
    "            param_group['lr'] = 0.5 * param_group['lr']\n",
    "\n",
    "    loss_all = 0\n",
    "    for data in train_loader:\n",
    "        data = data.to(device)\n",
    "        optimizer.zero_grad()\n",
    "        output = model(data.x, data.edge_index, data.batch)\n",
    "        loss = F.nll_loss(output, data.y)\n",
    "        loss.backward()\n",
    "        loss_all += loss.item() * data.num_graphs\n",
    "        optimizer.step()\n",
    "    return loss_all / len(train_dataset)\n",
    "\n",
    "\n",
    "def test(loader):\n",
    "    model.eval()\n",
    "\n",
    "    correct = 0\n",
    "    for data in loader:\n",
    "        data = data.to(device)\n",
    "        output = model(data.x, data.edge_index, data.batch)\n",
    "        pred = output.max(dim=1)[1]\n",
    "        correct += pred.eq(data.y).sum().item()\n",
    "    return correct / len(loader.dataset)"
   ]
  },
  {
   "cell_type": "markdown",
   "metadata": {
    "id": "rsv9CQ6hCNMI"
   },
   "source": [
    "### Train the model for 100 epochs\n",
    "\n",
    "The accuracy should be around 80% in the end"
   ]
  },
  {
   "cell_type": "code",
   "execution_count": 14,
   "metadata": {
    "colab": {
     "base_uri": "https://localhost:8080/"
    },
    "id": "4imSoTlMrQdN",
    "outputId": "410f11c4-8fac-4086-80a1-46bd4c0a8709"
   },
   "outputs": [
    {
     "name": "stdout",
     "output_type": "stream",
     "text": [
      "Epoch: 001, Loss: 0.8916, Train Acc: 0.6560\n",
      "Epoch: 002, Loss: 0.6395, Train Acc: 0.6714\n",
      "Epoch: 003, Loss: 0.6199, Train Acc: 0.7023\n",
      "Epoch: 004, Loss: 0.5959, Train Acc: 0.7215\n",
      "Epoch: 005, Loss: 0.5807, Train Acc: 0.7312\n",
      "Epoch: 006, Loss: 0.5598, Train Acc: 0.7491\n",
      "Epoch: 007, Loss: 0.5504, Train Acc: 0.7602\n",
      "Epoch: 008, Loss: 0.5351, Train Acc: 0.7703\n",
      "Epoch: 009, Loss: 0.5339, Train Acc: 0.7763\n",
      "Epoch: 010, Loss: 0.5154, Train Acc: 0.7766\n",
      "Epoch: 011, Loss: 0.5258, Train Acc: 0.7814\n",
      "Epoch: 012, Loss: 0.5032, Train Acc: 0.7876\n",
      "Epoch: 013, Loss: 0.5051, Train Acc: 0.7849\n",
      "Epoch: 014, Loss: 0.4981, Train Acc: 0.7939\n",
      "Epoch: 015, Loss: 0.4922, Train Acc: 0.7946\n",
      "Epoch: 016, Loss: 0.4896, Train Acc: 0.7962\n",
      "Epoch: 017, Loss: 0.4765, Train Acc: 0.8047\n",
      "Epoch: 018, Loss: 0.4709, Train Acc: 0.8026\n",
      "Epoch: 019, Loss: 0.4714, Train Acc: 0.8100\n",
      "Epoch: 020, Loss: 0.4709, Train Acc: 0.8100\n",
      "Epoch: 021, Loss: 0.4643, Train Acc: 0.8091\n",
      "Epoch: 022, Loss: 0.4699, Train Acc: 0.8130\n",
      "Epoch: 023, Loss: 0.4552, Train Acc: 0.8160\n",
      "Epoch: 024, Loss: 0.4592, Train Acc: 0.8158\n",
      "Epoch: 025, Loss: 0.4554, Train Acc: 0.8215\n",
      "Epoch: 026, Loss: 0.4477, Train Acc: 0.8245\n",
      "Epoch: 027, Loss: 0.4469, Train Acc: 0.8245\n",
      "Epoch: 028, Loss: 0.4363, Train Acc: 0.8264\n",
      "Epoch: 029, Loss: 0.4437, Train Acc: 0.8255\n",
      "Epoch: 030, Loss: 0.4395, Train Acc: 0.8301\n",
      "Epoch: 031, Loss: 0.4338, Train Acc: 0.8291\n",
      "Epoch: 032, Loss: 0.4200, Train Acc: 0.8324\n",
      "Epoch: 033, Loss: 0.4193, Train Acc: 0.8273\n",
      "Epoch: 034, Loss: 0.4204, Train Acc: 0.8315\n",
      "Epoch: 035, Loss: 0.4213, Train Acc: 0.8296\n",
      "Epoch: 036, Loss: 0.4142, Train Acc: 0.8294\n",
      "Epoch: 037, Loss: 0.4066, Train Acc: 0.8298\n",
      "Epoch: 038, Loss: 0.4101, Train Acc: 0.8310\n",
      "Epoch: 039, Loss: 0.4064, Train Acc: 0.8361\n",
      "Epoch: 040, Loss: 0.3984, Train Acc: 0.8361\n",
      "Epoch: 041, Loss: 0.4023, Train Acc: 0.8365\n",
      "Epoch: 042, Loss: 0.4084, Train Acc: 0.8275\n",
      "Epoch: 043, Loss: 0.4021, Train Acc: 0.8372\n",
      "Epoch: 044, Loss: 0.3864, Train Acc: 0.8264\n",
      "Epoch: 045, Loss: 0.3939, Train Acc: 0.8317\n",
      "Epoch: 046, Loss: 0.3959, Train Acc: 0.8448\n",
      "Epoch: 047, Loss: 0.3874, Train Acc: 0.8439\n",
      "Epoch: 048, Loss: 0.3877, Train Acc: 0.8460\n",
      "Epoch: 049, Loss: 0.3788, Train Acc: 0.8388\n",
      "Epoch: 050, Loss: 0.3746, Train Acc: 0.8434\n",
      "Epoch: 051, Loss: 0.3631, Train Acc: 0.8494\n",
      "Epoch: 052, Loss: 0.3711, Train Acc: 0.8520\n",
      "Epoch: 053, Loss: 0.3678, Train Acc: 0.8552\n",
      "Epoch: 054, Loss: 0.3729, Train Acc: 0.8485\n",
      "Epoch: 055, Loss: 0.3676, Train Acc: 0.8508\n",
      "Epoch: 056, Loss: 0.3610, Train Acc: 0.8506\n",
      "Epoch: 057, Loss: 0.3671, Train Acc: 0.8481\n",
      "Epoch: 058, Loss: 0.3655, Train Acc: 0.8504\n",
      "Epoch: 059, Loss: 0.3556, Train Acc: 0.8499\n",
      "Epoch: 060, Loss: 0.3559, Train Acc: 0.8527\n",
      "Epoch: 061, Loss: 0.3544, Train Acc: 0.8504\n",
      "Epoch: 062, Loss: 0.3564, Train Acc: 0.8529\n",
      "Epoch: 063, Loss: 0.3475, Train Acc: 0.8494\n",
      "Epoch: 064, Loss: 0.3473, Train Acc: 0.8534\n",
      "Epoch: 065, Loss: 0.3450, Train Acc: 0.8531\n",
      "Epoch: 066, Loss: 0.3466, Train Acc: 0.8497\n",
      "Epoch: 067, Loss: 0.3433, Train Acc: 0.8513\n",
      "Epoch: 068, Loss: 0.3415, Train Acc: 0.8557\n",
      "Epoch: 069, Loss: 0.3431, Train Acc: 0.8501\n",
      "Epoch: 070, Loss: 0.3440, Train Acc: 0.8575\n",
      "Epoch: 071, Loss: 0.3431, Train Acc: 0.8524\n",
      "Epoch: 072, Loss: 0.3361, Train Acc: 0.8540\n",
      "Epoch: 073, Loss: 0.3375, Train Acc: 0.8557\n",
      "Epoch: 074, Loss: 0.3397, Train Acc: 0.8545\n",
      "Epoch: 075, Loss: 0.3344, Train Acc: 0.8522\n",
      "Epoch: 076, Loss: 0.3286, Train Acc: 0.8557\n",
      "Epoch: 077, Loss: 0.3318, Train Acc: 0.8573\n",
      "Epoch: 078, Loss: 0.3336, Train Acc: 0.8478\n",
      "Epoch: 079, Loss: 0.3265, Train Acc: 0.8614\n",
      "Epoch: 080, Loss: 0.3244, Train Acc: 0.8538\n",
      "Epoch: 081, Loss: 0.3258, Train Acc: 0.8573\n",
      "Epoch: 082, Loss: 0.3290, Train Acc: 0.8589\n",
      "Epoch: 083, Loss: 0.3298, Train Acc: 0.8501\n",
      "Epoch: 084, Loss: 0.3249, Train Acc: 0.8568\n",
      "Epoch: 085, Loss: 0.3250, Train Acc: 0.8536\n",
      "Epoch: 086, Loss: 0.3289, Train Acc: 0.8552\n",
      "Epoch: 087, Loss: 0.3151, Train Acc: 0.8589\n",
      "Epoch: 088, Loss: 0.3236, Train Acc: 0.8545\n",
      "Epoch: 089, Loss: 0.3243, Train Acc: 0.8580\n",
      "Epoch: 090, Loss: 0.3342, Train Acc: 0.8580\n",
      "Epoch: 091, Loss: 0.3246, Train Acc: 0.8564\n",
      "Epoch: 092, Loss: 0.3283, Train Acc: 0.8568\n",
      "Epoch: 093, Loss: 0.3242, Train Acc: 0.8492\n",
      "Epoch: 094, Loss: 0.3280, Train Acc: 0.8423\n",
      "Epoch: 095, Loss: 0.3387, Train Acc: 0.8483\n",
      "Epoch: 096, Loss: 0.3406, Train Acc: 0.8349\n",
      "Epoch: 097, Loss: 0.3468, Train Acc: 0.8476\n",
      "Epoch: 098, Loss: 0.3430, Train Acc: 0.8451\n",
      "Epoch: 099, Loss: 0.3356, Train Acc: 0.8630\n",
      "Epoch: 100, Loss: 0.3292, Train Acc: 0.8545\n"
     ]
    }
   ],
   "source": [
    "device = torch.device('cuda' if torch.cuda.is_available() else 'cpu')\n",
    "model = Net(dim=32).to(device)\n",
    "optimizer = torch.optim.Adam(model.parameters(), lr=0.001)\n",
    "\n",
    "for epoch in range(1, 101):\n",
    "    loss = train(epoch)\n",
    "    train_acc = test(train_loader)\n",
    "    print(f'Epoch: {epoch:03d}, Loss: {loss:.4f}, 'f'Train Acc: {train_acc:.4f}')\n"
   ]
  },
  {
   "cell_type": "markdown",
   "metadata": {
    "id": "PzX9xwFxCTff"
   },
   "source": [
    "## Explaining the predictions\n",
    "\n",
    "Now we look at two popular attribution methods. First, we calculate the gradient of the output with respect to the edge weights $w_{e_i}$. Edge weights are initially one for all edges.\n",
    "For the saliency method, we use the absolute value of the gradient as the attribution value for each edge:\n",
    "\n",
    "$$\n",
    "Attribution_{e_i} = |\\frac{\\partial F(x)}{\\partial w_{e_i}}|\n",
    "$$\n",
    "\n",
    "Where $x$ is the input and $F(x)$ is the output of the GNN model on input $x$.\n",
    "\n",
    "For Integrated Gradients method, we interpolate between the current input and a baseline input where the weight of all edges is zero and accumulate the gradient values for each edge:\n",
    "\n",
    "$$\n",
    "Attribution_{e_i} = \\int_{\\alpha =0}^1 \\frac{\\partial F(x_{\\alpha)}}{\\partial w_{e_i}} d\\alpha\n",
    "$$\n",
    "\n",
    "Where $x_{\\alpha}$ is the same as the original input graph but the weight of all edges is set to $\\alpha$. Integrated Gradients complete formulation is more complicated but since our initial edge weights are equal to one and the baseline is zero, it can be simplified to the formulation above. You can read more about this method [here](https://arxiv.org/abs/1703.01365). Of course, this can not be calculated directly and is approximated by a discrete sum.\n",
    "\n",
    "We use the [captum](https://captum.ai/) library for calculating the attribution values. We define the `model_forward` function which calculates the `batch` argument assuming that we are only explaining a single graph at a time.\n",
    "\n"
   ]
  },
  {
   "cell_type": "code",
   "execution_count": 15,
   "metadata": {
    "id": "Wz6B1NgorzAX"
   },
   "outputs": [
    {
     "ename": "ModuleNotFoundError",
     "evalue": "No module named 'captum'",
     "output_type": "error",
     "traceback": [
      "\u001b[1;31m---------------------------------------------------------------------------\u001b[0m",
      "\u001b[1;31mModuleNotFoundError\u001b[0m                       Traceback (most recent call last)",
      "\u001b[1;32m<ipython-input-15-5612d4d2350c>\u001b[0m in \u001b[0;36m<module>\u001b[1;34m()\u001b[0m\n\u001b[1;32m----> 1\u001b[1;33m \u001b[1;32mfrom\u001b[0m \u001b[0mcaptum\u001b[0m\u001b[1;33m.\u001b[0m\u001b[0mattr\u001b[0m \u001b[1;32mimport\u001b[0m \u001b[0mSaliency\u001b[0m\u001b[1;33m,\u001b[0m \u001b[0mIntegratedGradients\u001b[0m\u001b[1;33m\u001b[0m\u001b[0m\n\u001b[0m\u001b[0;32m      2\u001b[0m \u001b[1;33m\u001b[0m\u001b[0m\n\u001b[0;32m      3\u001b[0m \u001b[1;32mdef\u001b[0m \u001b[0mmodel_forward\u001b[0m\u001b[1;33m(\u001b[0m\u001b[0medge_mask\u001b[0m\u001b[1;33m,\u001b[0m \u001b[0mdata\u001b[0m\u001b[1;33m)\u001b[0m\u001b[1;33m:\u001b[0m\u001b[1;33m\u001b[0m\u001b[0m\n\u001b[0;32m      4\u001b[0m     \u001b[0mbatch\u001b[0m \u001b[1;33m=\u001b[0m \u001b[0mtorch\u001b[0m\u001b[1;33m.\u001b[0m\u001b[0mzeros\u001b[0m\u001b[1;33m(\u001b[0m\u001b[0mdata\u001b[0m\u001b[1;33m.\u001b[0m\u001b[0mx\u001b[0m\u001b[1;33m.\u001b[0m\u001b[0mshape\u001b[0m\u001b[1;33m[\u001b[0m\u001b[1;36m0\u001b[0m\u001b[1;33m]\u001b[0m\u001b[1;33m,\u001b[0m \u001b[0mdtype\u001b[0m\u001b[1;33m=\u001b[0m\u001b[0mint\u001b[0m\u001b[1;33m)\u001b[0m\u001b[1;33m.\u001b[0m\u001b[0mto\u001b[0m\u001b[1;33m(\u001b[0m\u001b[0mdevice\u001b[0m\u001b[1;33m)\u001b[0m\u001b[1;33m\u001b[0m\u001b[0m\n\u001b[0;32m      5\u001b[0m     \u001b[0mout\u001b[0m \u001b[1;33m=\u001b[0m \u001b[0mmodel\u001b[0m\u001b[1;33m(\u001b[0m\u001b[0mdata\u001b[0m\u001b[1;33m.\u001b[0m\u001b[0mx\u001b[0m\u001b[1;33m,\u001b[0m \u001b[0mdata\u001b[0m\u001b[1;33m.\u001b[0m\u001b[0medge_index\u001b[0m\u001b[1;33m,\u001b[0m \u001b[0mbatch\u001b[0m\u001b[1;33m,\u001b[0m \u001b[0medge_mask\u001b[0m\u001b[1;33m)\u001b[0m\u001b[1;33m\u001b[0m\u001b[0m\n",
      "\u001b[1;31mModuleNotFoundError\u001b[0m: No module named 'captum'"
     ]
    }
   ],
   "source": [
    "from captum.attr import Saliency, IntegratedGradients\n",
    "\n",
    "def model_forward(edge_mask, data):\n",
    "    batch = torch.zeros(data.x.shape[0], dtype=int).to(device)\n",
    "    out = model(data.x, data.edge_index, batch, edge_mask)\n",
    "    return out\n",
    "\n",
    "\n",
    "def explain(method, data, target=0):\n",
    "    input_mask = torch.ones(data.edge_index.shape[1]).requires_grad_(True).to(device)\n",
    "    if method == 'ig':\n",
    "        ig = IntegratedGradients(model_forward)\n",
    "        mask = ig.attribute(input_mask, target=target,\n",
    "                            additional_forward_args=(data,),\n",
    "                            internal_batch_size=data.edge_index.shape[1])\n",
    "    elif method == 'saliency':\n",
    "        saliency = Saliency(model_forward)\n",
    "        mask = saliency.attribute(input_mask, target=target,\n",
    "                                  additional_forward_args=(data,))\n",
    "    else:\n",
    "        raise Exception('Unknown explanation method')\n",
    "\n",
    "    edge_mask = np.abs(mask.cpu().detach().numpy())\n",
    "    if edge_mask.max() > 0:  # avoid division by zero\n",
    "        edge_mask = edge_mask / edge_mask.max()\n",
    "    return edge_mask"
   ]
  },
  {
   "cell_type": "markdown",
   "metadata": {
    "id": "0FPGLRtSFacR"
   },
   "source": [
    "Finally we take a random sample from the test dataset and run the explanation methods. For a simpler visualization, we make the graph undirected and merge the explanations of each edge in both directions.\n",
    "\n",
    "It is known that NO2 substructure makes the molecules mutagenic in many cases and you can verify this by the model explanations.\n",
    "\n",
    "Mutagenic molecules have label 0 in this dataset and we only sample from those molecules but you can change the code and see the explanations for the other class as well.\n",
    "\n",
    "In this visualization, edge colors and thickness represent the importance. You can also see the numeric value by passing `draw_edge_labels` to `draw_molecule` function.\n",
    "\n",
    "As you can see Integrated Gradients tend to create more accurate explanations."
   ]
  },
  {
   "cell_type": "code",
   "execution_count": null,
   "metadata": {
    "colab": {
     "base_uri": "https://localhost:8080/",
     "height": 621
    },
    "id": "Z1mJVbKorh5y",
    "outputId": "771555b4-e2b0-4701-984c-88537723f10c"
   },
   "outputs": [],
   "source": [
    "import random\n",
    "from collections import defaultdict\n",
    "\n",
    "def aggregate_edge_directions(edge_mask, data):\n",
    "    edge_mask_dict = defaultdict(float)\n",
    "    for val, u, v in list(zip(edge_mask, *data.edge_index)):\n",
    "        u, v = u.item(), v.item()\n",
    "        if u > v:\n",
    "            u, v = v, u\n",
    "        edge_mask_dict[(u, v)] += val\n",
    "    return edge_mask_dict\n",
    "    \n",
    "\n",
    "data = random.choice([t for t in test_dataset if not t.y.item()])\n",
    "mol = to_molecule(data)\n",
    "\n",
    "for title, method in [('Integrated Gradients', 'ig'), ('Saliency', 'saliency')]:\n",
    "    edge_mask = explain(method, data, target=0)\n",
    "    edge_mask_dict = aggregate_edge_directions(edge_mask, data)\n",
    "    plt.figure(figsize=(10, 5))\n",
    "    plt.title(title)\n",
    "    draw_molecule(mol, edge_mask_dict)"
   ]
  },
  {
   "cell_type": "code",
   "execution_count": null,
   "metadata": {
    "collapsed": true
   },
   "outputs": [],
   "source": []
  },
  {
   "cell_type": "code",
   "execution_count": null,
   "metadata": {
    "collapsed": true
   },
   "outputs": [],
   "source": []
  }
 ],
 "metadata": {
  "colab": {
   "collapsed_sections": [],
   "name": "6. GNN Explanation.ipynb",
   "provenance": []
  },
  "kernelspec": {
   "display_name": "Python 3",
   "language": "python",
   "name": "python3"
  },
  "language_info": {
   "codemirror_mode": {
    "name": "ipython",
    "version": 3
   },
   "file_extension": ".py",
   "mimetype": "text/x-python",
   "name": "python",
   "nbconvert_exporter": "python",
   "pygments_lexer": "ipython3",
   "version": "3.8.16"
  }
 },
 "nbformat": 4,
 "nbformat_minor": 1
}
